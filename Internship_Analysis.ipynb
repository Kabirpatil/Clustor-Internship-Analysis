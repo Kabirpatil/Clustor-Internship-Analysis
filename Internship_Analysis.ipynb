{
 "cells": [
  {
   "cell_type": "markdown",
   "metadata": {},
   "source": [
    "## Analysis of student enrolled for the Clustor Computing Internship Drive(2024)\n",
    "##### In this internship drive the students from different branches take part for different job roles.\n",
    "##### The data is collected from the students who have applied for the internship drive.\n",
    "#### The data includes the Name of the student, grnder, branch, e-mail, contact-no, job role etc. "
   ]
  },
  {
   "cell_type": "code",
   "execution_count": 3,
   "metadata": {},
   "outputs": [],
   "source": [
    "import numpy as np\n",
    "import pandas as pd\n",
    "import matplotlib.pyplot as plt\n",
    "%matplotlib inline\n",
    "import seaborn as sns\n",
    "import warnings\n",
    "warnings.filterwarnings('ignore')"
   ]
  },
  {
   "cell_type": "code",
   "execution_count": 68,
   "metadata": {},
   "outputs": [],
   "source": [
    "data = pd.read_csv(\"CC_Internship_Drive.csv\")"
   ]
  },
  {
   "cell_type": "code",
   "execution_count": 69,
   "metadata": {},
   "outputs": [
    {
     "data": {
      "text/html": [
       "<div>\n",
       "<style scoped>\n",
       "    .dataframe tbody tr th:only-of-type {\n",
       "        vertical-align: middle;\n",
       "    }\n",
       "\n",
       "    .dataframe tbody tr th {\n",
       "        vertical-align: top;\n",
       "    }\n",
       "\n",
       "    .dataframe thead th {\n",
       "        text-align: right;\n",
       "    }\n",
       "</style>\n",
       "<table border=\"1\" class=\"dataframe\">\n",
       "  <thead>\n",
       "    <tr style=\"text-align: right;\">\n",
       "      <th></th>\n",
       "      <th>Sr. No.</th>\n",
       "      <th>First Name</th>\n",
       "      <th>Middle Name</th>\n",
       "      <th>Last Name</th>\n",
       "      <th>Degree Specializations</th>\n",
       "      <th>Gender</th>\n",
       "      <th>Official Email</th>\n",
       "      <th>Official Phone</th>\n",
       "      <th>Please select the preferred job role - Application Fields</th>\n",
       "    </tr>\n",
       "  </thead>\n",
       "  <tbody>\n",
       "    <tr>\n",
       "      <th>0</th>\n",
       "      <td>1.0</td>\n",
       "      <td>Devanshu</td>\n",
       "      <td>Prafull</td>\n",
       "      <td>Kolhe</td>\n",
       "      <td>AI</td>\n",
       "      <td>Male</td>\n",
       "      <td>devanshukolhe.21@stvincentngp.edu.in</td>\n",
       "      <td>+91-9975188992</td>\n",
       "      <td>Full stack developer</td>\n",
       "    </tr>\n",
       "    <tr>\n",
       "      <th>1</th>\n",
       "      <td>2.0</td>\n",
       "      <td>Aniruddha</td>\n",
       "      <td>Kishor</td>\n",
       "      <td>Gawali</td>\n",
       "      <td>CE</td>\n",
       "      <td>Male</td>\n",
       "      <td>aniruddhagawali.21@stvincentngp.edu.in</td>\n",
       "      <td>+91-9325207992</td>\n",
       "      <td>Full stack developer</td>\n",
       "    </tr>\n",
       "    <tr>\n",
       "      <th>2</th>\n",
       "      <td>3.0</td>\n",
       "      <td>Anna</td>\n",
       "      <td>Francis</td>\n",
       "      <td>Martin</td>\n",
       "      <td>CE</td>\n",
       "      <td>Female</td>\n",
       "      <td>annamartin.21@stvincentngp.edu.in</td>\n",
       "      <td>+91-9673926592</td>\n",
       "      <td>Full stack developer</td>\n",
       "    </tr>\n",
       "    <tr>\n",
       "      <th>3</th>\n",
       "      <td>4.0</td>\n",
       "      <td>Bhavishya</td>\n",
       "      <td>Sanjayrao</td>\n",
       "      <td>Mahabudhe</td>\n",
       "      <td>CE</td>\n",
       "      <td>Female</td>\n",
       "      <td>bhavishyamahabudhe.21@stvincentngp.edu.in</td>\n",
       "      <td>+91-7499813667</td>\n",
       "      <td>Full stack developer</td>\n",
       "    </tr>\n",
       "    <tr>\n",
       "      <th>4</th>\n",
       "      <td>5.0</td>\n",
       "      <td>Janvi</td>\n",
       "      <td>Premlal</td>\n",
       "      <td>Gaidhane</td>\n",
       "      <td>CE</td>\n",
       "      <td>Female</td>\n",
       "      <td>janvigaidhane.22d@stvincentngp.edu.in</td>\n",
       "      <td>+91-7397819017</td>\n",
       "      <td>Full stack developer</td>\n",
       "    </tr>\n",
       "    <tr>\n",
       "      <th>...</th>\n",
       "      <td>...</td>\n",
       "      <td>...</td>\n",
       "      <td>...</td>\n",
       "      <td>...</td>\n",
       "      <td>...</td>\n",
       "      <td>...</td>\n",
       "      <td>...</td>\n",
       "      <td>...</td>\n",
       "      <td>...</td>\n",
       "    </tr>\n",
       "    <tr>\n",
       "      <th>207</th>\n",
       "      <td>208.0</td>\n",
       "      <td>Pandu</td>\n",
       "      <td>Ranga</td>\n",
       "      <td>Rao R Kaniganti</td>\n",
       "      <td>IT</td>\n",
       "      <td>Male</td>\n",
       "      <td>pandukaniganti.21@stvincentngp.edu.in</td>\n",
       "      <td>+91-9422822545</td>\n",
       "      <td>Jr. Software dev.</td>\n",
       "    </tr>\n",
       "    <tr>\n",
       "      <th>208</th>\n",
       "      <td>209.0</td>\n",
       "      <td>Rohit</td>\n",
       "      <td>Umesh</td>\n",
       "      <td>Rangari</td>\n",
       "      <td>IT</td>\n",
       "      <td>Male</td>\n",
       "      <td>rohitrangari.21@stvincentngp.edu.in</td>\n",
       "      <td>+91-9359147108</td>\n",
       "      <td>Jr. Software dev.</td>\n",
       "    </tr>\n",
       "    <tr>\n",
       "      <th>209</th>\n",
       "      <td>210.0</td>\n",
       "      <td>Suchitha</td>\n",
       "      <td>Babu</td>\n",
       "      <td>Tharoli</td>\n",
       "      <td>IT</td>\n",
       "      <td>Female</td>\n",
       "      <td>suchithatharoli.21@stvincentngp.edu.in</td>\n",
       "      <td>+91-7588475980</td>\n",
       "      <td>Jr. Software dev.</td>\n",
       "    </tr>\n",
       "    <tr>\n",
       "      <th>210</th>\n",
       "      <td>211.0</td>\n",
       "      <td>Tushar</td>\n",
       "      <td>Narendra</td>\n",
       "      <td>Thakare</td>\n",
       "      <td>IT</td>\n",
       "      <td>Male</td>\n",
       "      <td>tusharthakare.22d@stvincentngp.edu.in</td>\n",
       "      <td>+91-7709554977</td>\n",
       "      <td>Jr. Software dev.</td>\n",
       "    </tr>\n",
       "    <tr>\n",
       "      <th>211</th>\n",
       "      <td>NaN</td>\n",
       "      <td>NaN</td>\n",
       "      <td>NaN</td>\n",
       "      <td>NaN</td>\n",
       "      <td>NaN</td>\n",
       "      <td>NaN</td>\n",
       "      <td>NaN</td>\n",
       "      <td>NaN</td>\n",
       "      <td>NaN</td>\n",
       "    </tr>\n",
       "  </tbody>\n",
       "</table>\n",
       "<p>212 rows × 9 columns</p>\n",
       "</div>"
      ],
      "text/plain": [
       "     Sr. No. First Name Middle Name        Last Name Degree Specializations  \\\n",
       "0        1.0   Devanshu     Prafull            Kolhe                     AI   \n",
       "1        2.0  Aniruddha      Kishor           Gawali                     CE   \n",
       "2        3.0       Anna     Francis           Martin                     CE   \n",
       "3        4.0  Bhavishya   Sanjayrao        Mahabudhe                     CE   \n",
       "4        5.0      Janvi     Premlal         Gaidhane                     CE   \n",
       "..       ...        ...         ...              ...                    ...   \n",
       "207    208.0      Pandu       Ranga  Rao R Kaniganti                     IT   \n",
       "208    209.0      Rohit       Umesh          Rangari                     IT   \n",
       "209    210.0   Suchitha        Babu          Tharoli                     IT   \n",
       "210    211.0     Tushar    Narendra          Thakare                     IT   \n",
       "211      NaN        NaN         NaN              NaN                    NaN   \n",
       "\n",
       "     Gender                             Official Email  Official Phone  \\\n",
       "0      Male       devanshukolhe.21@stvincentngp.edu.in  +91-9975188992   \n",
       "1      Male     aniruddhagawali.21@stvincentngp.edu.in  +91-9325207992   \n",
       "2    Female          annamartin.21@stvincentngp.edu.in  +91-9673926592   \n",
       "3    Female  bhavishyamahabudhe.21@stvincentngp.edu.in  +91-7499813667   \n",
       "4    Female      janvigaidhane.22d@stvincentngp.edu.in  +91-7397819017   \n",
       "..      ...                                        ...             ...   \n",
       "207    Male      pandukaniganti.21@stvincentngp.edu.in  +91-9422822545   \n",
       "208    Male        rohitrangari.21@stvincentngp.edu.in  +91-9359147108   \n",
       "209  Female     suchithatharoli.21@stvincentngp.edu.in  +91-7588475980   \n",
       "210    Male      tusharthakare.22d@stvincentngp.edu.in  +91-7709554977   \n",
       "211     NaN                                        NaN             NaN   \n",
       "\n",
       "    Please select the preferred job role - Application Fields  \n",
       "0                                 Full stack developer         \n",
       "1                                 Full stack developer         \n",
       "2                                 Full stack developer         \n",
       "3                                 Full stack developer         \n",
       "4                                 Full stack developer         \n",
       "..                                                 ...         \n",
       "207                                  Jr. Software dev.         \n",
       "208                                  Jr. Software dev.         \n",
       "209                                  Jr. Software dev.         \n",
       "210                                  Jr. Software dev.         \n",
       "211                                                NaN         \n",
       "\n",
       "[212 rows x 9 columns]"
      ]
     },
     "execution_count": 69,
     "metadata": {},
     "output_type": "execute_result"
    }
   ],
   "source": [
    "data"
   ]
  },
  {
   "cell_type": "code",
   "execution_count": 70,
   "metadata": {},
   "outputs": [],
   "source": [
    "data.drop(['Sr. No.'], axis=1, inplace = True)"
   ]
  },
  {
   "cell_type": "code",
   "execution_count": 71,
   "metadata": {},
   "outputs": [
    {
     "data": {
      "text/html": [
       "<div>\n",
       "<style scoped>\n",
       "    .dataframe tbody tr th:only-of-type {\n",
       "        vertical-align: middle;\n",
       "    }\n",
       "\n",
       "    .dataframe tbody tr th {\n",
       "        vertical-align: top;\n",
       "    }\n",
       "\n",
       "    .dataframe thead th {\n",
       "        text-align: right;\n",
       "    }\n",
       "</style>\n",
       "<table border=\"1\" class=\"dataframe\">\n",
       "  <thead>\n",
       "    <tr style=\"text-align: right;\">\n",
       "      <th></th>\n",
       "      <th>First Name</th>\n",
       "      <th>Middle Name</th>\n",
       "      <th>Last Name</th>\n",
       "      <th>Degree Specializations</th>\n",
       "      <th>Gender</th>\n",
       "      <th>Official Email</th>\n",
       "      <th>Official Phone</th>\n",
       "      <th>Please select the preferred job role - Application Fields</th>\n",
       "    </tr>\n",
       "  </thead>\n",
       "  <tbody>\n",
       "    <tr>\n",
       "      <th>0</th>\n",
       "      <td>Devanshu</td>\n",
       "      <td>Prafull</td>\n",
       "      <td>Kolhe</td>\n",
       "      <td>AI</td>\n",
       "      <td>Male</td>\n",
       "      <td>devanshukolhe.21@stvincentngp.edu.in</td>\n",
       "      <td>+91-9975188992</td>\n",
       "      <td>Full stack developer</td>\n",
       "    </tr>\n",
       "    <tr>\n",
       "      <th>1</th>\n",
       "      <td>Aniruddha</td>\n",
       "      <td>Kishor</td>\n",
       "      <td>Gawali</td>\n",
       "      <td>CE</td>\n",
       "      <td>Male</td>\n",
       "      <td>aniruddhagawali.21@stvincentngp.edu.in</td>\n",
       "      <td>+91-9325207992</td>\n",
       "      <td>Full stack developer</td>\n",
       "    </tr>\n",
       "    <tr>\n",
       "      <th>2</th>\n",
       "      <td>Anna</td>\n",
       "      <td>Francis</td>\n",
       "      <td>Martin</td>\n",
       "      <td>CE</td>\n",
       "      <td>Female</td>\n",
       "      <td>annamartin.21@stvincentngp.edu.in</td>\n",
       "      <td>+91-9673926592</td>\n",
       "      <td>Full stack developer</td>\n",
       "    </tr>\n",
       "    <tr>\n",
       "      <th>3</th>\n",
       "      <td>Bhavishya</td>\n",
       "      <td>Sanjayrao</td>\n",
       "      <td>Mahabudhe</td>\n",
       "      <td>CE</td>\n",
       "      <td>Female</td>\n",
       "      <td>bhavishyamahabudhe.21@stvincentngp.edu.in</td>\n",
       "      <td>+91-7499813667</td>\n",
       "      <td>Full stack developer</td>\n",
       "    </tr>\n",
       "    <tr>\n",
       "      <th>4</th>\n",
       "      <td>Janvi</td>\n",
       "      <td>Premlal</td>\n",
       "      <td>Gaidhane</td>\n",
       "      <td>CE</td>\n",
       "      <td>Female</td>\n",
       "      <td>janvigaidhane.22d@stvincentngp.edu.in</td>\n",
       "      <td>+91-7397819017</td>\n",
       "      <td>Full stack developer</td>\n",
       "    </tr>\n",
       "  </tbody>\n",
       "</table>\n",
       "</div>"
      ],
      "text/plain": [
       "  First Name Middle Name  Last Name Degree Specializations  Gender  \\\n",
       "0   Devanshu     Prafull      Kolhe                     AI    Male   \n",
       "1  Aniruddha      Kishor     Gawali                     CE    Male   \n",
       "2       Anna     Francis     Martin                     CE  Female   \n",
       "3  Bhavishya   Sanjayrao  Mahabudhe                     CE  Female   \n",
       "4      Janvi     Premlal   Gaidhane                     CE  Female   \n",
       "\n",
       "                              Official Email  Official Phone  \\\n",
       "0       devanshukolhe.21@stvincentngp.edu.in  +91-9975188992   \n",
       "1     aniruddhagawali.21@stvincentngp.edu.in  +91-9325207992   \n",
       "2          annamartin.21@stvincentngp.edu.in  +91-9673926592   \n",
       "3  bhavishyamahabudhe.21@stvincentngp.edu.in  +91-7499813667   \n",
       "4      janvigaidhane.22d@stvincentngp.edu.in  +91-7397819017   \n",
       "\n",
       "  Please select the preferred job role - Application Fields  \n",
       "0                               Full stack developer         \n",
       "1                               Full stack developer         \n",
       "2                               Full stack developer         \n",
       "3                               Full stack developer         \n",
       "4                               Full stack developer         "
      ]
     },
     "execution_count": 71,
     "metadata": {},
     "output_type": "execute_result"
    }
   ],
   "source": [
    "data.head()"
   ]
  },
  {
   "cell_type": "code",
   "execution_count": 72,
   "metadata": {},
   "outputs": [
    {
     "name": "stdout",
     "output_type": "stream",
     "text": [
      "<class 'pandas.core.frame.DataFrame'>\n",
      "RangeIndex: 212 entries, 0 to 211\n",
      "Data columns (total 8 columns):\n",
      " #   Column                                                     Non-Null Count  Dtype \n",
      "---  ------                                                     --------------  ----- \n",
      " 0   First Name                                                 211 non-null    object\n",
      " 1   Middle Name                                                199 non-null    object\n",
      " 2   Last Name                                                  211 non-null    object\n",
      " 3   Degree Specializations                                     211 non-null    object\n",
      " 4   Gender                                                     211 non-null    object\n",
      " 5   Official Email                                             211 non-null    object\n",
      " 6   Official Phone                                             206 non-null    object\n",
      " 7   Please select the preferred job role - Application Fields  211 non-null    object\n",
      "dtypes: object(8)\n",
      "memory usage: 13.4+ KB\n"
     ]
    }
   ],
   "source": [
    "data.info()"
   ]
  },
  {
   "cell_type": "code",
   "execution_count": 73,
   "metadata": {},
   "outputs": [
    {
     "data": {
      "text/plain": [
       "(212, 8)"
      ]
     },
     "execution_count": 73,
     "metadata": {},
     "output_type": "execute_result"
    }
   ],
   "source": [
    "data.shape"
   ]
  },
  {
   "cell_type": "code",
   "execution_count": 76,
   "metadata": {},
   "outputs": [],
   "source": [
    "data.rename(columns={'Please select the preferred job role - Application Fields':'Job_role', 'Degree Specializations': 'Branch' },inplace = True)"
   ]
  },
  {
   "cell_type": "code",
   "execution_count": 83,
   "metadata": {},
   "outputs": [
    {
     "data": {
      "text/plain": [
       "First Name         0\n",
       "Middle Name       12\n",
       "Last Name          0\n",
       "Branch             0\n",
       "Gender             0\n",
       "Official Email     0\n",
       "Official Phone     5\n",
       "Job_role           0\n",
       "dtype: int64"
      ]
     },
     "execution_count": 83,
     "metadata": {},
     "output_type": "execute_result"
    }
   ],
   "source": [
    "data.isnull().sum()"
   ]
  },
  {
   "cell_type": "code",
   "execution_count": 78,
   "metadata": {},
   "outputs": [],
   "source": [
    "data['Gender'].fillna(data['Gender'].mode()[0], inplace = True)"
   ]
  },
  {
   "cell_type": "code",
   "execution_count": 81,
   "metadata": {},
   "outputs": [],
   "source": [
    "data.dropna(subset=['Job_role'],inplace=True)"
   ]
  },
  {
   "cell_type": "code",
   "execution_count": 84,
   "metadata": {},
   "outputs": [
    {
     "data": {
      "text/plain": [
       "Text(0.5, 1.0, 'Count of Gender')"
      ]
     },
     "execution_count": 84,
     "metadata": {},
     "output_type": "execute_result"
    },
    {
     "data": {
      "image/png": "[encoded data removed]",
      "text/plain": [
       "<Figure size 640x480 with 1 Axes>"
      ]
     },
     "metadata": {},
     "output_type": "display_data"
    }
   ],
   "source": [
    "plt.style.use('fivethirtyeight')\n",
    "ax = sns.countplot(x = 'Gender', data = data, palette='Set2')\n",
    "\n",
    "for bars in ax.containers:\n",
    "    ax.bar_label(bars)\n",
    "\n",
    "\n",
    "plt.title(\"Count of Gender\")\n",
    "    "
   ]
  },
  {
   "cell_type": "markdown",
   "metadata": {},
   "source": [
    "#### From the above countplot we can see that the no of female particapants are less than male particapants."
   ]
  },
  {
   "cell_type": "code",
   "execution_count": 92,
   "metadata": {},
   "outputs": [
    {
     "data": {
      "text/plain": [
       "Text(0.5, 1.0, 'Count of Job role')"
      ]
     },
     "execution_count": 92,
     "metadata": {},
     "output_type": "execute_result"
    },
    {
     "data": {
      "image/png": "[encoded data removed]",
      "text/plain": [
       "<Figure size 1500x500 with 1 Axes>"
      ]
     },
     "metadata": {},
     "output_type": "display_data"
    }
   ],
   "source": [
    "plt.style.use('fivethirtyeight')\n",
    "ax = sns.countplot(x = 'Job_role', data = data, palette='Set2')\n",
    "\n",
    "for bars in ax.containers:\n",
    "    ax.bar_label(bars)\n",
    "\n",
    "\n",
    "plt.title(\"Count of Job role\")\n",
    "    "
   ]
  },
  {
   "cell_type": "markdown",
   "metadata": {},
   "source": [
    "#### As from the above graph we can see that the most of the students have applied for the 'Jr.Data Analyst' job_role.\n",
    "\n",
    "#### We can aslo see that the no of students for 'Full Stack Developer' and 'Jr. Machine Learning' is the same."
   ]
  },
  {
   "cell_type": "code",
   "execution_count": 96,
   "metadata": {},
   "outputs": [
    {
     "data": {
      "text/plain": [
       "Text(0.5, 1.0, 'Count plot of Job role according to Gender')"
      ]
     },
     "execution_count": 96,
     "metadata": {},
     "output_type": "execute_result"
    },
    {
     "data": {
      "image/png": "[encoded data removed]",
      "text/plain": [
       "<Figure size 1500x500 with 1 Axes>"
      ]
     },
     "metadata": {},
     "output_type": "display_data"
    }
   ],
   "source": [
    "ax = sns.countplot(x = 'Job_role', data = data, hue = 'Gender')\n",
    "\n",
    "for bars in ax.containers:\n",
    "    ax.bar_label(bars)\n",
    "    \n",
    "    \n",
    "plt.title(\"Count plot of Job role according to Gender\")"
   ]
  },
  {
   "cell_type": "markdown",
   "metadata": {},
   "source": [
    "#### As from the above graph we can see that the count of both Male and Female is almost equal for the position of the 'Jr.Data Analyst Role'.\n",
    "\n",
    "#### Whereas the count males are more in the field of 'Full Stack' and 'Jr. Soft Developer' but in the 'Jr. Machine Learning' the count of female students is more."
   ]
  },
  {
   "cell_type": "markdown",
   "metadata": {},
   "source": [
    "<h1 style=\"text-align:center; color:green;\">Final Insight</h1>\n",
    "\n",
    "#### According to the above analysis we can say that the most of the students have enrolled for the 'Jr.Data Analyst' role. The reason could be the trend of this technology that's why most of the studnents want to get into the 'Data Analyst Domain'.\n",
    "\n",
    "#### In the second position we can see that the students for 'Jr. Software Developer' is more as we can say that the reason is the position is open for all and is related to the software domain that every software student learn in his/her syllabus.\n",
    "\n",
    "#### In the third place we have 'Full Stack Developer' and 'Machine Learning' domain where the participation is equal. we can say that the reason is both of this domains are hard to learn.\n",
    "\n",
    "#### The participation of males are more than the females.\n"
   ]
  }
 ],
 "metadata": {
  "kernelspec": {
   "display_name": "Python 3",
   "language": "python",
   "name": "python3"
  },
  "language_info": {
   "codemirror_mode": {
    "name": "ipython",
    "version": 3
   },
   "file_extension": ".py",
   "mimetype": "text/x-python",
   "name": "python",
   "nbconvert_exporter": "python",
   "pygments_lexer": "ipython3",
   "version": "3.12.4"
  }
 },
 "nbformat": 4,
 "nbformat_minor": 2
}
